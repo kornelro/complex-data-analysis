{
 "metadata": {
  "orig_nbformat": 2,
  "kernelspec": {
   "name": "python385jvsc74a57bd0618aa16fdfadf9fe4cb0976442574f29faddd5d023310bcdea5c75eb36ba64b8",
   "display_name": "Python 3.8.5 64-bit ('cda2_venv')"
  },
  "metadata": {
   "interpreter": {
    "hash": "618aa16fdfadf9fe4cb0976442574f29faddd5d023310bcdea5c75eb36ba64b8"
   }
  }
 },
 "nbformat": 4,
 "nbformat_minor": 2,
 "cells": [
  {
   "cell_type": "code",
   "execution_count": 1,
   "metadata": {},
   "outputs": [],
   "source": [
    "import os\n",
    "import sys\n",
    "module_path = os.path.abspath(os.path.join('..'))\n",
    "if module_path not in sys.path:\n",
    "    sys.path.append(module_path)"
   ]
  },
  {
   "cell_type": "code",
   "execution_count": 2,
   "metadata": {},
   "outputs": [],
   "source": [
    "import warnings\n",
    "warnings.filterwarnings(\"ignore\", category=UserWarning)\n",
    "warnings.filterwarnings(\"ignore\", category=RuntimeWarning)"
   ]
  },
  {
   "cell_type": "code",
   "execution_count": 3,
   "metadata": {},
   "outputs": [],
   "source": [
    "from datetime import datetime\n",
    "\n",
    "from sklearn.base import clone\n",
    "from sklearn.multiclass import OneVsRestClassifier\n",
    "from sklearn.tree import DecisionTreeClassifier\n",
    "from sklearn_hierarchical_classification.classifier import HierarchicalClassifier\n",
    "\n",
    "from src.data_processing import (hierarchy_to_dict, read_data, read_hierarchy,\n",
    "                                 split_data)\n",
    "from src.metrics import get_comparision\n",
    "from src.models import LCN, LCPN, LCL"
   ]
  },
  {
   "source": [
    "# Experiments"
   ],
   "cell_type": "markdown",
   "metadata": {}
  },
  {
   "cell_type": "code",
   "execution_count": 4,
   "metadata": {},
   "outputs": [],
   "source": [
    "RANDOM_SEED = 123456\n",
    "BASE_CLASSIFIER = DecisionTreeClassifier(random_state=RANDOM_SEED)"
   ]
  },
  {
   "cell_type": "code",
   "execution_count": 5,
   "metadata": {},
   "outputs": [],
   "source": [
    "H = read_hierarchy('./data/raw/imclef07a.hf')\n",
    "train_data = read_data('./data/raw/imclef07a_train')\n",
    "test_data = read_data('./data/raw/imclef07a_test')\n",
    "\n",
    "class_hierarchy = hierarchy_to_dict(H)\n",
    "X_train = train_data.drop(columns=['label', 'path'])\n",
    "y_train = train_data['label']\n",
    "X_test = test_data.drop(columns=['label', 'path'])\n",
    "y_test = test_data['label']"
   ]
  },
  {
   "source": [
    "## LCPN - library"
   ],
   "cell_type": "markdown",
   "metadata": {}
  },
  {
   "cell_type": "code",
   "execution_count": 6,
   "metadata": {},
   "outputs": [
    {
     "output_type": "stream",
     "name": "stdout",
     "text": [
      "Training time:  0:00:06.153024\n",
      "Predicting time:  0:00:00.394704\n"
     ]
    }
   ],
   "source": [
    "lcpn_lib = HierarchicalClassifier(\n",
    "    base_estimator=BASE_CLASSIFIER,\n",
    "    class_hierarchy=class_hierarchy,\n",
    ")\n",
    "\n",
    "start_time = datetime.now()\n",
    "lcpn_lib.fit(X_train, y_train)\n",
    "print('Training time: ', datetime.now()-start_time)\n",
    "\n",
    "start_time = datetime.now()\n",
    "lcpn_lib_pred = lcpn_lib.predict(X_test)\n",
    "print('Predicting time: ', datetime.now()-start_time)"
   ]
  },
  {
   "source": [
    "## LCPN - own implementation"
   ],
   "cell_type": "markdown",
   "metadata": {}
  },
  {
   "cell_type": "code",
   "execution_count": 7,
   "metadata": {},
   "outputs": [],
   "source": [
    "lcpn = LCPN(\n",
    "    BASE_CLASSIFIER,\n",
    "    H\n",
    ")"
   ]
  },
  {
   "cell_type": "code",
   "execution_count": 8,
   "metadata": {},
   "outputs": [
    {
     "output_type": "stream",
     "name": "stderr",
     "text": [
      "100%|██████████| 3/3 [00:01<00:00,  1.69it/s]\n"
     ]
    }
   ],
   "source": [
    "lcpn.fit(train_data)"
   ]
  },
  {
   "cell_type": "code",
   "execution_count": 9,
   "metadata": {
    "tags": []
   },
   "outputs": [
    {
     "output_type": "stream",
     "name": "stderr",
     "text": [
      "100%|██████████| 34/34 [00:00<00:00, 310.19it/s]\n",
      "100%|██████████| 1006/1006 [00:01<00:00, 634.03it/s]\n"
     ]
    }
   ],
   "source": [
    "df_predicted_lcpn = lcpn.predict(test_data)"
   ]
  },
  {
   "source": [
    "## LCN - library"
   ],
   "cell_type": "markdown",
   "metadata": {}
  },
  {
   "cell_type": "code",
   "execution_count": 10,
   "metadata": {
    "tags": []
   },
   "outputs": [
    {
     "output_type": "stream",
     "name": "stdout",
     "text": [
      "Training time:  0:00:10.792067\n",
      "Predicting time:  0:00:01.464500\n"
     ]
    }
   ],
   "source": [
    "lcn_lib = HierarchicalClassifier(\n",
    "    base_estimator=OneVsRestClassifier(BASE_CLASSIFIER),\n",
    "    class_hierarchy=class_hierarchy,\n",
    ")\n",
    "\n",
    "start_time = datetime.now()\n",
    "lcn_lib.fit(X_train, y_train)\n",
    "print('Training time: ', datetime.now()-start_time)\n",
    "\n",
    "start_time = datetime.now()\n",
    "lcn_lib_pred = lcn_lib.predict(X_test)\n",
    "print('Predicting time: ', datetime.now()-start_time)"
   ]
  },
  {
   "source": [
    "## LCN - own implementation"
   ],
   "cell_type": "markdown",
   "metadata": {}
  },
  {
   "cell_type": "code",
   "execution_count": 11,
   "metadata": {},
   "outputs": [],
   "source": [
    "lcn = LCN(\n",
    "    BASE_CLASSIFIER,\n",
    "    H\n",
    ")"
   ]
  },
  {
   "cell_type": "code",
   "execution_count": 12,
   "metadata": {},
   "outputs": [
    {
     "output_type": "stream",
     "name": "stderr",
     "text": [
      "100%|██████████| 3/3 [00:03<00:00,  1.23s/it]\n"
     ]
    }
   ],
   "source": [
    "lcn.fit(train_data)"
   ]
  },
  {
   "cell_type": "code",
   "execution_count": 13,
   "metadata": {},
   "outputs": [
    {
     "output_type": "stream",
     "name": "stderr",
     "text": [
      "100%|██████████| 34/34 [00:00<00:00, 134.50it/s]\n",
      "100%|██████████| 1006/1006 [00:01<00:00, 637.97it/s]\n"
     ]
    }
   ],
   "source": [
    "df_predicted_lcn = lcn.predict(test_data)"
   ]
  },
  {
   "source": [
    "## LCL - own implementation"
   ],
   "cell_type": "markdown",
   "metadata": {}
  },
  {
   "cell_type": "code",
   "execution_count": 14,
   "metadata": {
    "tags": []
   },
   "outputs": [],
   "source": [
    "lcl = LCL(\n",
    "    BASE_CLASSIFIER,\n",
    "    H\n",
    ")"
   ]
  },
  {
   "cell_type": "code",
   "execution_count": 15,
   "metadata": {},
   "outputs": [
    {
     "output_type": "stream",
     "name": "stderr",
     "text": [
      "100%|██████████| 3/3 [00:01<00:00,  2.08it/s]\n"
     ]
    }
   ],
   "source": [
    "lcl.fit(train_data)"
   ]
  },
  {
   "cell_type": "code",
   "execution_count": 16,
   "metadata": {},
   "outputs": [
    {
     "output_type": "stream",
     "name": "stderr",
     "text": [
      "100%|██████████| 1006/1006 [00:02<00:00, 457.62it/s]\n"
     ]
    }
   ],
   "source": [
    "df_predicted_lcl = lcl.predict(test_data)"
   ]
  },
  {
   "source": [
    "## FLAT"
   ],
   "cell_type": "markdown",
   "metadata": {}
  },
  {
   "cell_type": "code",
   "execution_count": 17,
   "metadata": {},
   "outputs": [],
   "source": [
    "clf = clone(BASE_CLASSIFIER)\n",
    "clf.fit(X_train, y_train)\n",
    "flat_pred = clf.predict(X_test)"
   ]
  },
  {
   "source": [
    "## Comparision"
   ],
   "cell_type": "markdown",
   "metadata": {}
  },
  {
   "cell_type": "code",
   "execution_count": 20,
   "metadata": {},
   "outputs": [
    {
     "output_type": "execute_result",
     "data": {
      "text/plain": [
       "      model      h_f1  f1_micro\n",
       "5      flat  0.792578  0.602386\n",
       "0  lcpn_lib  0.766907  0.561630\n",
       "1  lcpn_own  0.766907  0.561630\n",
       "3   lcn_own  0.746955  0.529821\n",
       "4   lcl_own  0.744727  0.519881\n",
       "2   lcn_lib  0.742265  0.513917"
      ],
      "text/html": "<div>\n<style scoped>\n    .dataframe tbody tr th:only-of-type {\n        vertical-align: middle;\n    }\n\n    .dataframe tbody tr th {\n        vertical-align: top;\n    }\n\n    .dataframe thead th {\n        text-align: right;\n    }\n</style>\n<table border=\"1\" class=\"dataframe\">\n  <thead>\n    <tr style=\"text-align: right;\">\n      <th></th>\n      <th>model</th>\n      <th>h_f1</th>\n      <th>f1_micro</th>\n    </tr>\n  </thead>\n  <tbody>\n    <tr>\n      <th>5</th>\n      <td>flat</td>\n      <td>0.792578</td>\n      <td>0.602386</td>\n    </tr>\n    <tr>\n      <th>0</th>\n      <td>lcpn_lib</td>\n      <td>0.766907</td>\n      <td>0.561630</td>\n    </tr>\n    <tr>\n      <th>1</th>\n      <td>lcpn_own</td>\n      <td>0.766907</td>\n      <td>0.561630</td>\n    </tr>\n    <tr>\n      <th>3</th>\n      <td>lcn_own</td>\n      <td>0.746955</td>\n      <td>0.529821</td>\n    </tr>\n    <tr>\n      <th>4</th>\n      <td>lcl_own</td>\n      <td>0.744727</td>\n      <td>0.519881</td>\n    </tr>\n    <tr>\n      <th>2</th>\n      <td>lcn_lib</td>\n      <td>0.742265</td>\n      <td>0.513917</td>\n    </tr>\n  </tbody>\n</table>\n</div>"
     },
     "metadata": {},
     "execution_count": 20
    }
   ],
   "source": [
    "comparision = get_comparision(\n",
    "    [\n",
    "        ['lcpn_lib', lcpn_lib_pred],\n",
    "        ['lcpn_own', df_predicted_lcpn['predicted_label']],\n",
    "        ['lcn_lib', lcn_lib_pred],\n",
    "        ['lcn_own', df_predicted_lcn['predicted_label']],\n",
    "        ['lcl_own', df_predicted_lcl['predicted_label']],\n",
    "        ['flat', flat_pred]\n",
    "    ],\n",
    "    y_test,\n",
    "    lcpn_lib.graph_\n",
    ")\n",
    "\n",
    "comparision.sort_values('h_f1', ascending=False)"
   ]
  },
  {
   "cell_type": "code",
   "execution_count": null,
   "metadata": {},
   "outputs": [],
   "source": []
  }
 ]
}